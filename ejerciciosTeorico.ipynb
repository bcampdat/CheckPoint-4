{
 "cells": [
  {
   "cell_type": "markdown",
   "metadata": {},
   "source": [
    "                                Preguntas Teoricas"
   ]
  },
  {
   "cell_type": "markdown",
   "metadata": {},
   "source": [
    "1. ¿Cuál es la diferencia entre una lista y una tupla en Python?\n",
    "\n",
    "    Principalmente son 2:\n",
    "    \n",
    "        Por sintaxis \n",
    "            Las listas usa corchetes [] mientras que las tuplas usan paréntesis ()\n",
    "\n",
    "        Por tratamiento \n",
    "            Las Tuplas son immutables y las listas son mutables.\n",
    "\n",
    "            Inmutable significa invariable reduciendo los posibles errores por asignacion o por uso de metodos dando asi mas seguridad a la colección de datos mientras que las listas son mas versátiles a todos los cambios que queramos hacer"
   ]
  },
  {
   "cell_type": "markdown",
   "metadata": {},
   "source": [
    "2. ¿Cuál es el orden de las operaciones?\n",
    "\n",
    "        Parans (), Exponents **, Multiplication *, Division /, Addition +, Subtraction -\n",
    "        para recordar mas facilmente este orden se utiliza la espresión_\n",
    "        \"Please Excuse My Dear Aunt Sally\""
   ]
  },
  {
   "cell_type": "markdown",
   "metadata": {},
   "source": [
    "3. ¿Qué es un diccionario Python?\n",
    "\n",
    "        Es un conjunto de datos que se almacenan  en par \"clave:valor\" se representan con llaves {} \n",
    "        este par de datos han de ser de relacion directa  no habrá dos claves iguales con iguales valores y nos permite acceder a ellos tanto por sus claves como sus valores.\n",
    "        \n",
    "        El mejor ejemplo de un diccionario es el mismo propio en formato papel donde se guardan claves como las palabras que contienen ordenadas alfabeticamente con los valores de su definición.\n",
    "\n",
    "       "
   ]
  },
  {
   "cell_type": "markdown",
   "metadata": {},
   "source": [
    "4. ¿Cuál es la diferencia entre el método ordenado y la función de ordenación?\n",
    "\n",
    "        Estos son método \" .sort() \" y función  \" sorted() \"\n",
    "\n",
    "        La principal diferencia es que en el caso del metodo  este no solo ordena sino que modifica la lista original y devuelve \"None\" mientras que con la funcion sorted podemos almacenarla en una variable sin modificar el orden original\n",
    "\n",
    "        "
   ]
  },
  {
   "cell_type": "code",
   "execution_count": 1,
   "metadata": {},
   "outputs": [
    {
     "name": "stdout",
     "output_type": "stream",
     "text": [
      "[5, 4, 5, 6, 7]\n",
      "Metodo: sort\n",
      "my lista ordenada None\n",
      "my lista ordenada en una variable None\n",
      "original [4, 5, 5, 6, 7]\n",
      "Funcion: sorted\n",
      "[5, 4, 5, 6, 7]\n",
      "my lista ordenada [4, 5, 5, 6, 7]\n",
      "my lista ordenada en una variable [4, 5, 5, 6, 7]\n",
      "original [5, 4, 5, 6, 7]\n"
     ]
    }
   ],
   "source": [
    "# nuestra lista de notas\n",
    "lista_notas =  [5, 4,5, 6, 7 ]\n",
    "print (lista_notas)\n",
    "\n",
    "# metodo sort\n",
    "print (\"Metodo: sort\")\n",
    "print(\"my lista ordenada\" ,lista_notas.sort()) \n",
    "lista_notas_ordenada = lista_notas.sort()\n",
    "print (\"my lista ordenada en una variable\" ,lista_notas_ordenada)\n",
    "print (\"original\", lista_notas)\n",
    "\n",
    "# funcion sorted\n",
    "print (\"Funcion: sorted\")\n",
    "lista_notas =  [5, 4,5, 6, 7 ]\n",
    "print (lista_notas)\n",
    "\n",
    "print(\"my lista ordenada\" ,sorted (lista_notas))\n",
    "lista_notas_ordenada = sorted (lista_notas)\n",
    "print (\"my lista ordenada en una variable\" ,lista_notas_ordenada)\n",
    "print (\"original\", lista_notas)\n"
   ]
  },
  {
   "cell_type": "markdown",
   "metadata": {},
   "source": [
    "5. ¿Qué es un operador de asignación?\n",
    "\n",
    "        Es aquel que asigna un valor a una variable: es el igual \"=\" \n",
    "        \n",
    "        ej.\n",
    "        x = 5   se asigna el valor 5 a la variable x \n",
    "\n",
    "        "
   ]
  }
 ],
 "metadata": {
  "kernelspec": {
   "display_name": "Python 3",
   "language": "python",
   "name": "python3"
  },
  "language_info": {
   "codemirror_mode": {
    "name": "ipython",
    "version": 3
   },
   "file_extension": ".py",
   "mimetype": "text/x-python",
   "name": "python",
   "nbconvert_exporter": "python",
   "pygments_lexer": "ipython3",
   "version": "3.12.2"
  }
 },
 "nbformat": 4,
 "nbformat_minor": 2
}
