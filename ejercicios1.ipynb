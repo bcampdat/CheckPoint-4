{
 "cells": [
  {
   "cell_type": "markdown",
   "metadata": {},
   "source": [
    "Asignación de Python M2C4\n",
    "\n",
    "Durante esta sección del Módulo 2, ha aprendido más sobre Python. Python es un poderoso lenguaje de programación que sirve para muchos propósitos. Para practicar lo que ha aprendido en esta sección, completará algunos ejercicios de Python. Puede utilizar Visual Studio Code, Repl.it u otro entorno/editor de texto de su elección. Complete la siguiente tarea y comuníquese con la aplicación de soporte para que un mentor revise su trabajo. Si tiene alguna pregunta o necesita ayuda, comuníquese con nosotros para que podamos ayudarlo. Esta tarea debe completarse para aprobar esta sección del trabajo del curso.\n",
    "\n"
   ]
  },
  {
   "cell_type": "markdown",
   "metadata": {},
   "source": [
    "Ejercicio 1: \n",
    "    Cree una lista, tupla, flotante, entero, decimal y diccionario."
   ]
  },
  {
   "cell_type": "code",
   "execution_count": 21,
   "metadata": {},
   "outputs": [
    {
     "name": "stdout",
     "output_type": "stream",
     "text": [
      "my lista es:  [1, Decimal('3.14'), 0.5]\n",
      "my tupla es:  (1, Decimal('3.14'), 0.5)\n",
      "my diccionario es:  {'n_e': 1, 'n_f': 0.5, 'n_d': Decimal('3.14')}\n",
      "<class 'int'>\n",
      "<class 'float'>\n",
      "<class 'decimal.Decimal'>\n"
     ]
    }
   ],
   "source": [
    "\n",
    "from decimal import Decimal\n",
    "# variables\n",
    "n_entero = 1\n",
    "n_flotante = 0.5\n",
    "n_decimal = Decimal('3.14') # especificamente decimal \n",
    "\n",
    "\n",
    "my_lista = [n_entero, n_decimal, n_flotante]\n",
    "my_tupla = (n_entero, n_decimal, n_flotante)\n",
    "my_diccionario = { \n",
    "      \"n_e\" : n_entero,\n",
    "      \"n_f\" : n_flotante,\n",
    "      \"n_d\" : n_decimal         \n",
    "}\n",
    "\n",
    "print(\"my lista es: \", my_lista)\n",
    "print(\"my tupla es: \", my_tupla)\n",
    "print(\"my diccionario es: \", my_diccionario)\n",
    "\n",
    "print(type(n_entero))\n",
    "print(type(n_flotante))\n",
    "print(type(n_decimal))\n",
    "\n"
   ]
  },
  {
   "cell_type": "markdown",
   "metadata": {},
   "source": [
    "Ejercicio 2: \n",
    "    Redondea tu flotador."
   ]
  },
  {
   "cell_type": "code",
   "execution_count": 22,
   "metadata": {},
   "outputs": [
    {
     "name": "stdout",
     "output_type": "stream",
     "text": [
      "1\n"
     ]
    }
   ],
   "source": [
    "import math\n",
    "print(math.ceil(n_flotante))"
   ]
  },
  {
   "cell_type": "markdown",
   "metadata": {},
   "source": [
    "Ejercicio 3: \n",
    "    Obtén la raíz cuadrada de tu flotador."
   ]
  },
  {
   "cell_type": "code",
   "execution_count": 23,
   "metadata": {},
   "outputs": [
    {
     "name": "stdout",
     "output_type": "stream",
     "text": [
      "0.7071067811865476\n"
     ]
    }
   ],
   "source": [
    "print(math.sqrt(n_flotante))"
   ]
  },
  {
   "cell_type": "markdown",
   "metadata": {},
   "source": [
    "Ejercicio 4: \n",
    "    Seleccione el primer elemento de su diccionario."
   ]
  },
  {
   "cell_type": "code",
   "execution_count": 24,
   "metadata": {},
   "outputs": [
    {
     "name": "stdout",
     "output_type": "stream",
     "text": [
      "dict_items([('n_e', 1), ('n_f', 0.5), ('n_d', Decimal('3.14'))])\n",
      "('n_e', 1)\n"
     ]
    }
   ],
   "source": [
    "print (my_diccionario.items())\n",
    "my_diccionario_elementos = list(my_diccionario.copy().items())\n",
    "print(my_diccionario_elementos[0])"
   ]
  },
  {
   "cell_type": "markdown",
   "metadata": {},
   "source": [
    "Ejercicio 5: \n",
    "    Seleccione el segundo elemento de su tupla."
   ]
  },
  {
   "cell_type": "code",
   "execution_count": 25,
   "metadata": {},
   "outputs": [
    {
     "name": "stdout",
     "output_type": "stream",
     "text": [
      "3.14\n"
     ]
    }
   ],
   "source": [
    "print(my_tupla[1])"
   ]
  },
  {
   "cell_type": "markdown",
   "metadata": {},
   "source": [
    "Ejercicio 6: Añade un elemento al final de tu lista."
   ]
  },
  {
   "cell_type": "code",
   "execution_count": 26,
   "metadata": {},
   "outputs": [
    {
     "name": "stdout",
     "output_type": "stream",
     "text": [
      "[1, Decimal('3.14'), 0.5, -5]\n"
     ]
    }
   ],
   "source": [
    "my_lista.append(-5)\n",
    "print(my_lista)"
   ]
  },
  {
   "cell_type": "markdown",
   "metadata": {},
   "source": [
    "Ejercicio 7: Reemplace el primer elemento de su lista.\n"
   ]
  },
  {
   "cell_type": "code",
   "execution_count": 27,
   "metadata": {},
   "outputs": [
    {
     "name": "stdout",
     "output_type": "stream",
     "text": [
      "[7, Decimal('3.14'), 0.5, -5]\n"
     ]
    }
   ],
   "source": [
    "my_lista[0]= 7\n",
    "print(my_lista)"
   ]
  },
  {
   "cell_type": "markdown",
   "metadata": {},
   "source": [
    "Ejercicio 8: \n",
    "    Ordena tu lista alfabéticamente"
   ]
  },
  {
   "cell_type": "code",
   "execution_count": 28,
   "metadata": {},
   "outputs": [
    {
     "name": "stdout",
     "output_type": "stream",
     "text": [
      "[-5, 0.5, Decimal('3.14'), 7]\n"
     ]
    }
   ],
   "source": [
    "my_lista.sort() \n",
    "print(my_lista)"
   ]
  },
  {
   "cell_type": "markdown",
   "metadata": {},
   "source": [
    "Ejercicio 9: \n",
    "    Utilice la reasignación para agregar un elemento a su tupla."
   ]
  },
  {
   "cell_type": "code",
   "execution_count": 29,
   "metadata": {},
   "outputs": [
    {
     "name": "stdout",
     "output_type": "stream",
     "text": [
      "(1, Decimal('3.14'), 0.5, 11)\n"
     ]
    }
   ],
   "source": [
    "n_primo = 11\n",
    "# my_tupla += (n_primo,) \n",
    "my_tupla = my_tupla + (n_primo,) \n",
    "print(my_tupla)"
   ]
  }
 ],
 "metadata": {
  "kernelspec": {
   "display_name": "Python 3",
   "language": "python",
   "name": "python3"
  },
  "language_info": {
   "codemirror_mode": {
    "name": "ipython",
    "version": 3
   },
   "file_extension": ".py",
   "mimetype": "text/x-python",
   "name": "python",
   "nbconvert_exporter": "python",
   "pygments_lexer": "ipython3",
   "version": "3.12.2"
  }
 },
 "nbformat": 4,
 "nbformat_minor": 2
}
